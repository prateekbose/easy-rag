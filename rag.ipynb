{
 "cells": [
  {
   "cell_type": "markdown",
   "id": "e1266219",
   "metadata": {},
   "source": [
    "## Package Installation for LangChain and Dependencies\n",
    "This code snippet installs the required packages for using LangChain, including Sentence Transformers, FAISS-CPU, and Ollama"
   ]
  },
  {
   "cell_type": "code",
   "execution_count": 1,
   "id": "4911c91e",
   "metadata": {},
   "outputs": [
    {
     "name": "stdout",
     "output_type": "stream",
     "text": [
      "\n",
      "\u001b[1m[\u001b[0m\u001b[34;49mnotice\u001b[0m\u001b[1;39;49m]\u001b[0m\u001b[39;49m A new release of pip is available: \u001b[0m\u001b[31;49m25.0.1\u001b[0m\u001b[39;49m -> \u001b[0m\u001b[32;49m25.1.1\u001b[0m\n",
      "\u001b[1m[\u001b[0m\u001b[34;49mnotice\u001b[0m\u001b[1;39;49m]\u001b[0m\u001b[39;49m To update, run: \u001b[0m\u001b[32;49mpip install --upgrade pip\u001b[0m\n",
      "Requirement already satisfied: sniffio>=1.1 in ./env/lib/python3.12/site-packages (from anyio->httpx<1,>=0.23.0->langsmith<0.4,>=0.1.17->langchain) (1.3.1)\n",
      "Note: you may need to restart the kernel to use updated packages.\n"
     ]
    }
   ],
   "source": [
    "%pip install langchain sentence-transformers faiss-cpu langchain-ollama | tail -n 1"
   ]
  },
  {
   "cell_type": "markdown",
   "id": "875541e0",
   "metadata": {},
   "source": [
    "## Document Loading and Chunking\n",
    "This code snippet loads documents from a text file and splits them into smaller chunks."
   ]
  },
  {
   "cell_type": "code",
   "execution_count": 2,
   "id": "d1335de7",
   "metadata": {},
   "outputs": [
    {
     "name": "stdout",
     "output_type": "stream",
     "text": [
      "Loaded 1 documents and split into 10 chunks.\n"
     ]
    }
   ],
   "source": [
    "from langchain.document_loaders import TextLoader\n",
    "from langchain.text_splitter import RecursiveCharacterTextSplitter\n",
    "\n",
    "# Load documents\n",
    "loader = TextLoader(\"./data.txt\")  # Replace with your document paths\n",
    "documents = loader.load()\n",
    "\n",
    "# Split documents into chunks\n",
    "text_splitter = RecursiveCharacterTextSplitter(chunk_size=500, chunk_overlap=100)\n",
    "chunks = text_splitter.split_documents(documents)\n",
    "\n",
    "print(f\"Loaded {len(documents)} documents and split into {len(chunks)} chunks.\")"
   ]
  },
  {
   "cell_type": "markdown",
   "id": "cef83330",
   "metadata": {},
   "source": [
    "## Embedding Generation and Indexing\n",
    "This code snippet generates embeddings for the loaded document chunks using Ollama model and creates a FAISS index."
   ]
  },
  {
   "cell_type": "code",
   "execution_count": 3,
   "id": "66207623",
   "metadata": {},
   "outputs": [],
   "source": [
    "from langchain_ollama import OllamaEmbeddings\n",
    "from langchain.vectorstores import FAISS\n",
    "\n",
    "# Create embeddings\n",
    "embeddings = OllamaEmbeddings(  \n",
    "\tmodel=\"llama3.1:8b\",  \n",
    ")\n",
    "\n",
    "# Create a FAISS index\n",
    "db = FAISS.from_documents(\n",
    "    documents=chunks,\n",
    "    embedding=embeddings\n",
    ")"
   ]
  },
  {
   "cell_type": "markdown",
   "id": "753d1a7c",
   "metadata": {},
   "source": [
    "## Retrieval QA Chain Setup\n",
    "This code snippet sets up a Retrieval QA chain using the previously created FAISS index and Ollama LLM."
   ]
  },
  {
   "cell_type": "code",
   "execution_count": 4,
   "id": "d64dfa06",
   "metadata": {},
   "outputs": [],
   "source": [
    "from langchain.chains import RetrievalQA\n",
    "from langchain_ollama import OllamaLLM\n",
    "\n",
    "# Create a retriever\n",
    "retriever = db.as_retriever(search_k=3)\n",
    "\n",
    "# Create a RetrievalQA chain\n",
    "qa_chain = RetrievalQA.from_chain_type(\n",
    "\t\t\t\tllm=OllamaLLM(model=\"llama3.1:8b\"),\n",
    "                retriever=retriever,\n",
    "                chain_type=\"stuff\"\n",
    "\t    )"
   ]
  },
  {
   "cell_type": "markdown",
   "id": "153bfebe",
   "metadata": {},
   "source": [
    "## Ollama LLM Initialization\n",
    "This code snippet initializes an Ollama Large Language Model."
   ]
  },
  {
   "cell_type": "code",
   "execution_count": 5,
   "id": "532f5f41",
   "metadata": {},
   "outputs": [],
   "source": [
    "from langchain_ollama import OllamaLLM\n",
    "\n",
    "# Initialize the LLM\n",
    "llm = OllamaLLM(model=\"llama3.1:8b\")"
   ]
  },
  {
   "cell_type": "markdown",
   "id": "c9be15e9",
   "metadata": {},
   "source": [
    "## Retrieval QA Query Execution\n",
    "This code snippet executes a Retrieval QA chain with a given query and prints the resulting answer."
   ]
  },
  {
   "cell_type": "code",
   "execution_count": 6,
   "id": "5dc0dcd8",
   "metadata": {},
   "outputs": [
    {
     "name": "stderr",
     "output_type": "stream",
     "text": [
      "/tmp/ipykernel_20738/788598054.py:2: LangChainDeprecationWarning: The method `Chain.__call__` was deprecated in langchain 0.1.0 and will be removed in 1.0. Use :meth:`~invoke` instead.\n",
      "  result = qa_chain({\"query\": query})\n"
     ]
    },
    {
     "name": "stdout",
     "output_type": "stream",
     "text": [
      "The history of coffee begins in ancient Ethiopia, where legend has it that a shepherd named Kaldi noticed his goats became more energetic after eating red coffee cherries. This discovery led to the development of coffee across centuries, as it spread through Europe and other continents.\n",
      "\n",
      "In Europe, colonial powers recognized the economic potential of coffee and established plantations in places like Martinique (sent by France in 1720) and Haiti (which produced half of the world's coffee by the late 18th century).\n",
      "\n",
      "Coffee also played a significant role in the cultural and social development of various cities, including Istanbul, where it became a hub for intellectual and creative exchange in qahveh khanehs, or coffeehouses. These gathering places fostered discourse, politics, creativity, and dissent among patrons.\n",
      "\n",
      "Overall, the history of coffee is one of spread and adaptation across cultures and continents over several centuries, shaped by colonialism, trade, and cultural exchange.\n"
     ]
    }
   ],
   "source": [
    "query = \"What is the history of coffee?\"\n",
    "result = qa_chain({\"query\": query})\n",
    "\n",
    "# Print the result\n",
    "print(result[\"result\"])"
   ]
  }
 ],
 "metadata": {
  "kernelspec": {
   "display_name": "env",
   "language": "python",
   "name": "python3"
  },
  "language_info": {
   "codemirror_mode": {
    "name": "ipython",
    "version": 3
   },
   "file_extension": ".py",
   "mimetype": "text/x-python",
   "name": "python",
   "nbconvert_exporter": "python",
   "pygments_lexer": "ipython3",
   "version": "3.12.10"
  }
 },
 "nbformat": 4,
 "nbformat_minor": 5
}
